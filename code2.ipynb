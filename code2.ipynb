{
 "cells": [
  {
   "cell_type": "code",
   "execution_count": 1,
   "metadata": {},
   "outputs": [],
   "source": [
    "import pandas as pd\n",
    "from sklearn.impute import SimpleImputer\n",
    "from sklearn.preprocessing import OneHotEncoder, StandardScaler \n",
    "from sklearn.model_selection import train_test_split\n",
    "from sklearn import metrics"
   ]
  },
  {
   "cell_type": "code",
   "execution_count": 2,
   "metadata": {},
   "outputs": [],
   "source": [
    "df=pd.read_csv(r'C:\\Users\\khale\\OneDrive\\Desktop\\SA_IITG\\hackathon\\training_set_features.csv')"
   ]
  },
  {
   "cell_type": "code",
   "execution_count": 3,
   "metadata": {},
   "outputs": [],
   "source": [
    "cat_cols=['race','hhs_geo_region','census_msa','employment_industry','employment_occupation']\n",
    "dfc=df.copy()"
   ]
  },
  {
   "cell_type": "code",
   "execution_count": 4,
   "metadata": {},
   "outputs": [],
   "source": [
    "encoder = OneHotEncoder(sparse=False)\n",
    "one_hot_encoded = encoder.fit_transform(dfc[cat_cols])\n",
    "one_hot_df = pd.DataFrame(one_hot_encoded, columns=encoder.get_feature_names_out(cat_cols))\n",
    "df_encoded = pd.concat([dfc, one_hot_df], axis=1)\n",
    "df_encoded = df_encoded.drop(cat_cols, axis=1)"
   ]
  },
  {
   "cell_type": "code",
   "execution_count": 5,
   "metadata": {},
   "outputs": [],
   "source": [
    "df_encoded['age_group'].replace(['65+ Years','55 - 64 Years','45 - 54 Years','18 - 34 Years','35 - 44 Years'],[4,3,2,0,1],inplace=True)\n",
    "df_encoded['sex'].replace(['Female','Male'],[0,1],inplace=True)\n",
    "df_encoded['rent_or_own'].replace(['Own','Rent'],[1,0],inplace=True)\n",
    "df_encoded['employment_status'].replace(['Employed','Not in Labor Force','Unemployed'],[2,1,0],inplace=True)\n",
    "df_encoded['education'].replace(['College Graduate','Some College','12 Years','< 12 Years'],[3,2,1,0],inplace=True)\n",
    "df_encoded['marital_status'].replace(['Not Married','Married'],[0,1],inplace=True)\n",
    "df_encoded['income_poverty'].replace(['<= $75,000, Above Poverty','> $75,000','Below Poverty'],[1,2,0],inplace=True)"
   ]
  },
  {
   "cell_type": "code",
   "execution_count": 6,
   "metadata": {},
   "outputs": [],
   "source": [
    "col=df_encoded.columns.to_list()\n",
    "df_encoded[col] = df_encoded[col].fillna(df_encoded[col].median())\n",
    "df_encoded=df_encoded.drop(['respondent_id','health_insurance'],axis=1)"
   ]
  },
  {
   "cell_type": "code",
   "execution_count": 7,
   "metadata": {},
   "outputs": [],
   "source": [
    "X_train=df_encoded\n",
    "y=pd.read_csv(r'C:\\Users\\khale\\OneDrive\\Desktop\\SA_IITG\\hackathon\\training_set_labels.csv')\n",
    "y=y.drop(['respondent_id'],axis=1)"
   ]
  },
  {
   "cell_type": "code",
   "execution_count": 15,
   "metadata": {},
   "outputs": [],
   "source": [
    "X_test=pd.read_csv(r'C:\\Users\\khale\\OneDrive\\Desktop\\SA_IITG\\hackathon\\test_set_features.csv')"
   ]
  },
  {
   "cell_type": "code",
   "execution_count": 16,
   "metadata": {},
   "outputs": [],
   "source": [
    "one_hot_encoded = encoder.fit_transform(X_test[cat_cols])\n",
    "one_hot_df = pd.DataFrame(one_hot_encoded, columns=encoder.get_feature_names_out(cat_cols))\n",
    "df_encoded2 = pd.concat([X_test, one_hot_df], axis=1)\n",
    "df_encoded2 = df_encoded2.drop(cat_cols, axis=1)\n",
    "\n",
    "df_encoded2['sex'].replace(['Female','Male'],[0,1],inplace=True)\n",
    "df_encoded2['rent_or_own'].replace(['Own','Rent'],[1,0],inplace=True)\n",
    "df_encoded2['employment_status'].replace(['Employed','Not in Labor Force','Unemployed'],[2,1,0],inplace=True)\n",
    "df_encoded2['education'].replace(['College Graduate','Some College','12 Years','< 12 Years'],[3,2,1,0],inplace=True)\n",
    "df_encoded2['marital_status'].replace(['Not Married','Married'],[0,1],inplace=True)\n",
    "df_encoded2['income_poverty'].replace(['<= $75,000, Above Poverty','> $75,000','Below Poverty'],[1,2,0],inplace=True)\n",
    "df_encoded2['age_group'].replace(['65+ Years','55 - 64 Years','45 - 54 Years','18 - 34 Years','35 - 44 Years'],[4,3,2,0,1],inplace=True)\n"
   ]
  },
  {
   "cell_type": "code",
   "execution_count": 17,
   "metadata": {},
   "outputs": [],
   "source": [
    "df_encoded2[col] = df_encoded2[col].fillna(df_encoded2[col].median())"
   ]
  },
  {
   "cell_type": "code",
   "execution_count": 18,
   "metadata": {},
   "outputs": [],
   "source": [
    "df_encoded2=df_encoded2.drop(['respondent_id','health_insurance'],axis=1)"
   ]
  },
  {
   "cell_type": "code",
   "execution_count": 67,
   "metadata": {},
   "outputs": [],
   "source": [
    "from sklearn.linear_model import LogisticRegression\n",
    "# instantiate the model (using the default parameters)\n",
    "\n",
    "model= LogisticRegression(max_iter=1000,random_state=3)\n",
    "# fit the model with data\n",
    "model.fit(X_train, y['seasonal_vaccine'])\n",
    "y_pred1 = model.predict_proba(df_encoded2)"
   ]
  },
  {
   "cell_type": "code",
   "execution_count": 68,
   "metadata": {},
   "outputs": [],
   "source": [
    "model.fit(X_train,y['xyz_vaccine'])\n",
    "y_pred2=model.predict_proba(df_encoded2)"
   ]
  },
  {
   "cell_type": "code",
   "execution_count": 69,
   "metadata": {},
   "outputs": [],
   "source": [
    "y_pred1=y_pred1[:,0]\n",
    "y_pred2=y_pred2[:,0]\n"
   ]
  },
  {
   "cell_type": "code",
   "execution_count": 70,
   "metadata": {},
   "outputs": [],
   "source": [
    "res_id=X_test.iloc[:,0:1]"
   ]
  },
  {
   "cell_type": "code",
   "execution_count": 71,
   "metadata": {},
   "outputs": [
    {
     "data": {
      "text/html": [
       "<div>\n",
       "<style scoped>\n",
       "    .dataframe tbody tr th:only-of-type {\n",
       "        vertical-align: middle;\n",
       "    }\n",
       "\n",
       "    .dataframe tbody tr th {\n",
       "        vertical-align: top;\n",
       "    }\n",
       "\n",
       "    .dataframe thead th {\n",
       "        text-align: right;\n",
       "    }\n",
       "</style>\n",
       "<table border=\"1\" class=\"dataframe\">\n",
       "  <thead>\n",
       "    <tr style=\"text-align: right;\">\n",
       "      <th></th>\n",
       "      <th>h1n1_vaccine</th>\n",
       "    </tr>\n",
       "  </thead>\n",
       "  <tbody>\n",
       "    <tr>\n",
       "      <th>0</th>\n",
       "      <td>0.943239</td>\n",
       "    </tr>\n",
       "    <tr>\n",
       "      <th>1</th>\n",
       "      <td>0.957745</td>\n",
       "    </tr>\n",
       "    <tr>\n",
       "      <th>2</th>\n",
       "      <td>0.611743</td>\n",
       "    </tr>\n",
       "    <tr>\n",
       "      <th>3</th>\n",
       "      <td>0.512779</td>\n",
       "    </tr>\n",
       "    <tr>\n",
       "      <th>4</th>\n",
       "      <td>0.837295</td>\n",
       "    </tr>\n",
       "    <tr>\n",
       "      <th>...</th>\n",
       "      <td>...</td>\n",
       "    </tr>\n",
       "    <tr>\n",
       "      <th>26703</th>\n",
       "      <td>0.641173</td>\n",
       "    </tr>\n",
       "    <tr>\n",
       "      <th>26704</th>\n",
       "      <td>0.911495</td>\n",
       "    </tr>\n",
       "    <tr>\n",
       "      <th>26705</th>\n",
       "      <td>0.872015</td>\n",
       "    </tr>\n",
       "    <tr>\n",
       "      <th>26706</th>\n",
       "      <td>0.935901</td>\n",
       "    </tr>\n",
       "    <tr>\n",
       "      <th>26707</th>\n",
       "      <td>0.432119</td>\n",
       "    </tr>\n",
       "  </tbody>\n",
       "</table>\n",
       "<p>26708 rows × 1 columns</p>\n",
       "</div>"
      ],
      "text/plain": [
       "       h1n1_vaccine\n",
       "0          0.943239\n",
       "1          0.957745\n",
       "2          0.611743\n",
       "3          0.512779\n",
       "4          0.837295\n",
       "...             ...\n",
       "26703      0.641173\n",
       "26704      0.911495\n",
       "26705      0.872015\n",
       "26706      0.935901\n",
       "26707      0.432119\n",
       "\n",
       "[26708 rows x 1 columns]"
      ]
     },
     "execution_count": 71,
     "metadata": {},
     "output_type": "execute_result"
    }
   ],
   "source": [
    "y_pred2=pd.DataFrame({ \n",
    "    \"h1n1_vaccine\":y_pred2\n",
    "}\n",
    ")\n",
    "y_pred2"
   ]
  },
  {
   "cell_type": "code",
   "execution_count": 72,
   "metadata": {},
   "outputs": [
    {
     "data": {
      "text/html": [
       "<div>\n",
       "<style scoped>\n",
       "    .dataframe tbody tr th:only-of-type {\n",
       "        vertical-align: middle;\n",
       "    }\n",
       "\n",
       "    .dataframe tbody tr th {\n",
       "        vertical-align: top;\n",
       "    }\n",
       "\n",
       "    .dataframe thead th {\n",
       "        text-align: right;\n",
       "    }\n",
       "</style>\n",
       "<table border=\"1\" class=\"dataframe\">\n",
       "  <thead>\n",
       "    <tr style=\"text-align: right;\">\n",
       "      <th></th>\n",
       "      <th>seasonal_vaccine</th>\n",
       "    </tr>\n",
       "  </thead>\n",
       "  <tbody>\n",
       "    <tr>\n",
       "      <th>0</th>\n",
       "      <td>0.742310</td>\n",
       "    </tr>\n",
       "    <tr>\n",
       "      <th>1</th>\n",
       "      <td>0.952206</td>\n",
       "    </tr>\n",
       "    <tr>\n",
       "      <th>2</th>\n",
       "      <td>0.386545</td>\n",
       "    </tr>\n",
       "    <tr>\n",
       "      <th>3</th>\n",
       "      <td>0.142045</td>\n",
       "    </tr>\n",
       "    <tr>\n",
       "      <th>4</th>\n",
       "      <td>0.557253</td>\n",
       "    </tr>\n",
       "    <tr>\n",
       "      <th>...</th>\n",
       "      <td>...</td>\n",
       "    </tr>\n",
       "    <tr>\n",
       "      <th>26703</th>\n",
       "      <td>0.453605</td>\n",
       "    </tr>\n",
       "    <tr>\n",
       "      <th>26704</th>\n",
       "      <td>0.686362</td>\n",
       "    </tr>\n",
       "    <tr>\n",
       "      <th>26705</th>\n",
       "      <td>0.813889</td>\n",
       "    </tr>\n",
       "    <tr>\n",
       "      <th>26706</th>\n",
       "      <td>0.567944</td>\n",
       "    </tr>\n",
       "    <tr>\n",
       "      <th>26707</th>\n",
       "      <td>0.467169</td>\n",
       "    </tr>\n",
       "  </tbody>\n",
       "</table>\n",
       "<p>26708 rows × 1 columns</p>\n",
       "</div>"
      ],
      "text/plain": [
       "       seasonal_vaccine\n",
       "0              0.742310\n",
       "1              0.952206\n",
       "2              0.386545\n",
       "3              0.142045\n",
       "4              0.557253\n",
       "...                 ...\n",
       "26703          0.453605\n",
       "26704          0.686362\n",
       "26705          0.813889\n",
       "26706          0.567944\n",
       "26707          0.467169\n",
       "\n",
       "[26708 rows x 1 columns]"
      ]
     },
     "execution_count": 72,
     "metadata": {},
     "output_type": "execute_result"
    }
   ],
   "source": [
    "y_pred1=pd.DataFrame({ \n",
    "    \"seasonal_vaccine\":y_pred1\n",
    "}\n",
    ")\n",
    "y_pred1"
   ]
  },
  {
   "cell_type": "code",
   "execution_count": 78,
   "metadata": {},
   "outputs": [
    {
     "data": {
      "text/html": [
       "<div>\n",
       "<style scoped>\n",
       "    .dataframe tbody tr th:only-of-type {\n",
       "        vertical-align: middle;\n",
       "    }\n",
       "\n",
       "    .dataframe tbody tr th {\n",
       "        vertical-align: top;\n",
       "    }\n",
       "\n",
       "    .dataframe thead th {\n",
       "        text-align: right;\n",
       "    }\n",
       "</style>\n",
       "<table border=\"1\" class=\"dataframe\">\n",
       "  <thead>\n",
       "    <tr style=\"text-align: right;\">\n",
       "      <th></th>\n",
       "      <th>respondent_id</th>\n",
       "      <th>h1n1_vaccine</th>\n",
       "      <th>seasonal_vaccine</th>\n",
       "    </tr>\n",
       "  </thead>\n",
       "  <tbody>\n",
       "    <tr>\n",
       "      <th>0</th>\n",
       "      <td>26707</td>\n",
       "      <td>0.943239</td>\n",
       "      <td>0.742310</td>\n",
       "    </tr>\n",
       "    <tr>\n",
       "      <th>1</th>\n",
       "      <td>26708</td>\n",
       "      <td>0.957745</td>\n",
       "      <td>0.952206</td>\n",
       "    </tr>\n",
       "    <tr>\n",
       "      <th>2</th>\n",
       "      <td>26709</td>\n",
       "      <td>0.611743</td>\n",
       "      <td>0.386545</td>\n",
       "    </tr>\n",
       "    <tr>\n",
       "      <th>3</th>\n",
       "      <td>26710</td>\n",
       "      <td>0.512779</td>\n",
       "      <td>0.142045</td>\n",
       "    </tr>\n",
       "    <tr>\n",
       "      <th>4</th>\n",
       "      <td>26711</td>\n",
       "      <td>0.837295</td>\n",
       "      <td>0.557253</td>\n",
       "    </tr>\n",
       "    <tr>\n",
       "      <th>...</th>\n",
       "      <td>...</td>\n",
       "      <td>...</td>\n",
       "      <td>...</td>\n",
       "    </tr>\n",
       "    <tr>\n",
       "      <th>26703</th>\n",
       "      <td>53410</td>\n",
       "      <td>0.641173</td>\n",
       "      <td>0.453605</td>\n",
       "    </tr>\n",
       "    <tr>\n",
       "      <th>26704</th>\n",
       "      <td>53411</td>\n",
       "      <td>0.911495</td>\n",
       "      <td>0.686362</td>\n",
       "    </tr>\n",
       "    <tr>\n",
       "      <th>26705</th>\n",
       "      <td>53412</td>\n",
       "      <td>0.872015</td>\n",
       "      <td>0.813889</td>\n",
       "    </tr>\n",
       "    <tr>\n",
       "      <th>26706</th>\n",
       "      <td>53413</td>\n",
       "      <td>0.935901</td>\n",
       "      <td>0.567944</td>\n",
       "    </tr>\n",
       "    <tr>\n",
       "      <th>26707</th>\n",
       "      <td>53414</td>\n",
       "      <td>0.432119</td>\n",
       "      <td>0.467169</td>\n",
       "    </tr>\n",
       "  </tbody>\n",
       "</table>\n",
       "<p>26708 rows × 3 columns</p>\n",
       "</div>"
      ],
      "text/plain": [
       "       respondent_id  h1n1_vaccine  seasonal_vaccine\n",
       "0              26707      0.943239          0.742310\n",
       "1              26708      0.957745          0.952206\n",
       "2              26709      0.611743          0.386545\n",
       "3              26710      0.512779          0.142045\n",
       "4              26711      0.837295          0.557253\n",
       "...              ...           ...               ...\n",
       "26703          53410      0.641173          0.453605\n",
       "26704          53411      0.911495          0.686362\n",
       "26705          53412      0.872015          0.813889\n",
       "26706          53413      0.935901          0.567944\n",
       "26707          53414      0.432119          0.467169\n",
       "\n",
       "[26708 rows x 3 columns]"
      ]
     },
     "execution_count": 78,
     "metadata": {},
     "output_type": "execute_result"
    }
   ],
   "source": [
    "ans=pd.concat([res_id,y_pred2,y_pred1],axis=1)\n"
   ]
  },
  {
   "cell_type": "code",
   "execution_count": 79,
   "metadata": {},
   "outputs": [],
   "source": [
    "ans.to_csv('ans.csv')"
   ]
  }
 ],
 "metadata": {
  "kernelspec": {
   "display_name": "base",
   "language": "python",
   "name": "python3"
  },
  "language_info": {
   "codemirror_mode": {
    "name": "ipython",
    "version": 3
   },
   "file_extension": ".py",
   "mimetype": "text/x-python",
   "name": "python",
   "nbconvert_exporter": "python",
   "pygments_lexer": "ipython3",
   "version": "3.9.13"
  }
 },
 "nbformat": 4,
 "nbformat_minor": 2
}
